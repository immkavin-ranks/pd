{
 "cells": [
  {
   "cell_type": "markdown",
   "id": "5606ab1c-f181-41ed-bbf8-8a03d4fec078",
   "metadata": {},
   "source": [
    "> Assignment Webpage: [immkavin-ranks.github.io/pd](https://immkavin-ranks.github.io/pd/)\n",
    ">\n",
    "> Author: *Kavin Manoharan* **[kavinsde@skiff.com](mailto:kavinsde@skiff.com)**\n",
    "> \n",
    "> Personal Website: [kavinsde.netlify.app](https://kavinsde.netlify.app/)\n",
    "\n",
    "# Assignment - Importing Data into Pandas Dataframes"
   ]
  },
  {
   "cell_type": "markdown",
   "id": "380e8da1-2894-4194-a490-e5697f7fd225",
   "metadata": {},
   "source": [
    "> Pandas allows you to *import data* from a wide range of data sources directly into a dataframe. These can be static files, such as CSV, TSV, fixed width files, Microsoft Excel, JSON, SAS and SPSS files, as well as a range of popular databases, such as MySQL, PostgreSQL and Google BigQuery. You can even scrape data directly from web pages into Pandas dataframes.\n",
    "\n",
    "> When importing data into Pandas dataframes, you can also save time and write less code by defining which columns to import, rename the columns, set their data types, define the index, and many other things.\n"
   ]
  },
  {
   "cell_type": "markdown",
   "id": "73f5d780-a160-4a6c-9b3f-9f24c479f593",
   "metadata": {},
   "source": [
    "### Load the Pandas Library\n",
    "\n",
    "> When importing the Pandas package the convention is to use the command **import pandas as pd** which allows you to call Pandas functions by prefixing them with pd. instead of pandas.."
   ]
  },
  {
   "cell_type": "code",
   "execution_count": 1,
   "id": "79a426ee-204a-42a6-bdf4-e351014ad478",
   "metadata": {},
   "outputs": [],
   "source": [
    "import pandas as pd"
   ]
  },
  {
   "cell_type": "markdown",
   "id": "919ddb86-ec14-4c6a-b040-0b9a8b966add",
   "metadata": {},
   "source": [
    "## Reading CSV with Pandas\n",
    "\n",
    "> Comma Separated Value or CSV files are likely to be the file format you encounter most commonly in data science. As the name suggests, these are simple text files in which the values are separated (usually) by commas."
   ]
  },
  {
   "cell_type": "markdown",
   "id": "0bb7c4e3-1078-4e13-b262-94de69cc4f98",
   "metadata": {},
   "source": [
    "### Reading a local CSV file\n",
    "\n",
    "> To import a CSV file and put the contents into a Pandas dataframe we use the read_csv() function, which is appended after calling the pd object we created when we imported Pandas. The read_csv() function can take several arguments, but by default you just need to provide the path to the file you wish to read.\n",
    "\n",
    "```\n",
    "The Ice Cream Sales - temperatures.csv\n",
    "```\n",
    "> Dataset Temperature and Ice Cream Sales - A public dataset relating temperature and ice cream revenue"
   ]
  },
  {
   "cell_type": "code",
   "execution_count": 2,
   "id": "35418e55-2e53-4a9a-b8cf-c931be3d1253",
   "metadata": {},
   "outputs": [],
   "source": [
    "df = pd.read_csv('Data/Ice Cream Sales - temperatures.csv')"
   ]
  },
  {
   "cell_type": "markdown",
   "id": "ab21d638-04f6-4134-a2d7-abf1aa4d0d3b",
   "metadata": {},
   "source": [
    "#### Reading the data\n",
    "\n",
    "* One of the most used method for getting a quick overview of the DataFrame, is the head() method.\n",
    "* The head() method returns the headers and a specified number of rows, starting from the top. Default argument value = 5"
   ]
  },
  {
   "cell_type": "code",
   "execution_count": 3,
   "id": "3f5bc2e0-a627-46bc-b20d-48ae4e1619a3",
   "metadata": {},
   "outputs": [
    {
     "data": {
      "text/html": [
       "<div>\n",
       "<style scoped>\n",
       "    .dataframe tbody tr th:only-of-type {\n",
       "        vertical-align: middle;\n",
       "    }\n",
       "\n",
       "    .dataframe tbody tr th {\n",
       "        vertical-align: top;\n",
       "    }\n",
       "\n",
       "    .dataframe thead th {\n",
       "        text-align: right;\n",
       "    }\n",
       "</style>\n",
       "<table border=\"1\" class=\"dataframe\">\n",
       "  <thead>\n",
       "    <tr style=\"text-align: right;\">\n",
       "      <th></th>\n",
       "      <th>Temperature</th>\n",
       "      <th>Ice Cream Profits</th>\n",
       "    </tr>\n",
       "  </thead>\n",
       "  <tbody>\n",
       "    <tr>\n",
       "      <th>0</th>\n",
       "      <td>39</td>\n",
       "      <td>13.17</td>\n",
       "    </tr>\n",
       "    <tr>\n",
       "      <th>1</th>\n",
       "      <td>40</td>\n",
       "      <td>11.88</td>\n",
       "    </tr>\n",
       "    <tr>\n",
       "      <th>2</th>\n",
       "      <td>41</td>\n",
       "      <td>18.82</td>\n",
       "    </tr>\n",
       "    <tr>\n",
       "      <th>3</th>\n",
       "      <td>42</td>\n",
       "      <td>18.65</td>\n",
       "    </tr>\n",
       "    <tr>\n",
       "      <th>4</th>\n",
       "      <td>43</td>\n",
       "      <td>17.02</td>\n",
       "    </tr>\n",
       "  </tbody>\n",
       "</table>\n",
       "</div>"
      ],
      "text/plain": [
       "   Temperature  Ice Cream Profits\n",
       "0           39              13.17\n",
       "1           40              11.88\n",
       "2           41              18.82\n",
       "3           42              18.65\n",
       "4           43              17.02"
      ]
     },
     "execution_count": 3,
     "metadata": {},
     "output_type": "execute_result"
    }
   ],
   "source": [
    "df.head()"
   ]
  },
  {
   "cell_type": "markdown",
   "id": "5e1a4991-b498-4f8a-ae22-f0725aafd4d9",
   "metadata": {},
   "source": [
    "#### Renaming Column Headers on Import\n",
    "\n",
    "> To rename the columns, we simply use read_csv() to load the file and then pass in a list of the new names to the names argument, and use skiprows to ignore the first row of the file which contains the old column names."
   ]
  },
  {
   "cell_type": "code",
   "execution_count": 4,
   "id": "3050fb7d-1241-4572-84b1-38496a78d18b",
   "metadata": {},
   "outputs": [
    {
     "data": {
      "text/html": [
       "<div>\n",
       "<style scoped>\n",
       "    .dataframe tbody tr th:only-of-type {\n",
       "        vertical-align: middle;\n",
       "    }\n",
       "\n",
       "    .dataframe tbody tr th {\n",
       "        vertical-align: top;\n",
       "    }\n",
       "\n",
       "    .dataframe thead th {\n",
       "        text-align: right;\n",
       "    }\n",
       "</style>\n",
       "<table border=\"1\" class=\"dataframe\">\n",
       "  <thead>\n",
       "    <tr style=\"text-align: right;\">\n",
       "      <th></th>\n",
       "      <th>Temp in Celcius</th>\n",
       "      <th>Ice Cream Sale Profits</th>\n",
       "    </tr>\n",
       "  </thead>\n",
       "  <tbody>\n",
       "    <tr>\n",
       "      <th>0</th>\n",
       "      <td>39</td>\n",
       "      <td>13.17</td>\n",
       "    </tr>\n",
       "    <tr>\n",
       "      <th>1</th>\n",
       "      <td>40</td>\n",
       "      <td>11.88</td>\n",
       "    </tr>\n",
       "  </tbody>\n",
       "</table>\n",
       "</div>"
      ],
      "text/plain": [
       "   Temp in Celcius  Ice Cream Sale Profits\n",
       "0               39                   13.17\n",
       "1               40                   11.88"
      ]
     },
     "execution_count": 4,
     "metadata": {},
     "output_type": "execute_result"
    }
   ],
   "source": [
    "df = pd.read_csv('Data/Ice Cream Sales - temperatures.csv', names=['Temp in Celcius', 'Ice Cream Sale Profits'], skiprows=1)\n",
    "df.head(2)"
   ]
  },
  {
   "cell_type": "markdown",
   "id": "a973d246-51e9-4594-ab22-95c7f68b928e",
   "metadata": {},
   "source": [
    "### Reading a remote CSV file\n",
    "\n",
    "> You can also use read_csv() to read remote CSV files. Instead of passing in the path to the file you provide the full URL to the CSV file. Here, I’m loading a CSV file from my GitHub account.\n",
    "\n",
    "#### Defining which fields to import\n",
    "\n",
    "> You can use the usecols argument to define the list of column names to import. "
   ]
  },
  {
   "cell_type": "code",
   "execution_count": 5,
   "id": "2989a04b-ca6d-4823-86b8-d893b9ed8329",
   "metadata": {},
   "outputs": [
    {
     "data": {
      "text/html": [
       "<div>\n",
       "<style scoped>\n",
       "    .dataframe tbody tr th:only-of-type {\n",
       "        vertical-align: middle;\n",
       "    }\n",
       "\n",
       "    .dataframe tbody tr th {\n",
       "        vertical-align: top;\n",
       "    }\n",
       "\n",
       "    .dataframe thead th {\n",
       "        text-align: right;\n",
       "    }\n",
       "</style>\n",
       "<table border=\"1\" class=\"dataframe\">\n",
       "  <thead>\n",
       "    <tr style=\"text-align: right;\">\n",
       "      <th></th>\n",
       "      <th>Name</th>\n",
       "      <th>Artists</th>\n",
       "    </tr>\n",
       "  </thead>\n",
       "  <tbody>\n",
       "    <tr>\n",
       "      <th>0</th>\n",
       "      <td>Steady Rain in a Forest with Light Background ...</td>\n",
       "      <td>Nature Sounds</td>\n",
       "    </tr>\n",
       "    <tr>\n",
       "      <th>1</th>\n",
       "      <td>Soundarya Lahari</td>\n",
       "      <td>Mambalam Sisters</td>\n",
       "    </tr>\n",
       "    <tr>\n",
       "      <th>2</th>\n",
       "      <td>Waves of Abundance &amp; Fullfillment</td>\n",
       "      <td>Zen Life Relax</td>\n",
       "    </tr>\n",
       "  </tbody>\n",
       "</table>\n",
       "</div>"
      ],
      "text/plain": [
       "                                                Name           Artists\n",
       "0  Steady Rain in a Forest with Light Background ...     Nature Sounds\n",
       "1                                   Soundarya Lahari  Mambalam Sisters\n",
       "2                  Waves of Abundance & Fullfillment    Zen Life Relax"
      ]
     },
     "execution_count": 5,
     "metadata": {},
     "output_type": "execute_result"
    }
   ],
   "source": [
    "df = pd.read_csv('https://raw.githubusercontent.com/immkavin-ranks/pd/main/Data/spotify_long_tracks_2014_2024.csv',\\\n",
    "                 usecols=['Name', 'Artists'])\n",
    "df.head(3)"
   ]
  },
  {
   "cell_type": "markdown",
   "id": "eda016ca-7b09-4c43-aa9b-69f99f1f73a1",
   "metadata": {},
   "source": [
    "## Reading Microsoft Excel files with Pandas\n",
    "\n",
    "> Pandas includes built-in functionality for reading Microsoft Excel spreadsheet files via its read_excel() function. This works in the same way as read_csv() so can be used on local Excel documents as well as remote files, however, as Excel files are a bit more bloated than CSV files, it can be a bit slower.\n",
    "\n",
    "#### Specifying the number of rows to read\n",
    "\n",
    "> To restrict the number of rows that are read in you can pass an integer representing the number of rows to the nrows argument of read_csv()."
   ]
  },
  {
   "cell_type": "code",
   "execution_count": 6,
   "id": "977c832f-cd5a-4a89-a0da-3677c21b420d",
   "metadata": {},
   "outputs": [
    {
     "data": {
      "text/html": [
       "<div>\n",
       "<style scoped>\n",
       "    .dataframe tbody tr th:only-of-type {\n",
       "        vertical-align: middle;\n",
       "    }\n",
       "\n",
       "    .dataframe tbody tr th {\n",
       "        vertical-align: top;\n",
       "    }\n",
       "\n",
       "    .dataframe thead th {\n",
       "        text-align: right;\n",
       "    }\n",
       "</style>\n",
       "<table border=\"1\" class=\"dataframe\">\n",
       "  <thead>\n",
       "    <tr style=\"text-align: right;\">\n",
       "      <th></th>\n",
       "      <th>Player</th>\n",
       "      <th>Role</th>\n",
       "      <th>Price</th>\n",
       "    </tr>\n",
       "  </thead>\n",
       "  <tbody>\n",
       "    <tr>\n",
       "      <th>0</th>\n",
       "      <td>Ambati Rayudu (R)</td>\n",
       "      <td>Batsman</td>\n",
       "      <td>2.20 crore</td>\n",
       "    </tr>\n",
       "    <tr>\n",
       "      <th>1</th>\n",
       "      <td>Monu Kumar (R)</td>\n",
       "      <td>Batsman</td>\n",
       "      <td>20 lakhs</td>\n",
       "    </tr>\n",
       "    <tr>\n",
       "      <th>2</th>\n",
       "      <td>Murali Vijay (R)</td>\n",
       "      <td>Batsman</td>\n",
       "      <td>2 crore</td>\n",
       "    </tr>\n",
       "  </tbody>\n",
       "</table>\n",
       "</div>"
      ],
      "text/plain": [
       "              Player     Role       Price\n",
       "0  Ambati Rayudu (R)  Batsman  2.20 crore\n",
       "1     Monu Kumar (R)  Batsman    20 lakhs\n",
       "2   Murali Vijay (R)  Batsman     2 crore"
      ]
     },
     "execution_count": 6,
     "metadata": {},
     "output_type": "execute_result"
    }
   ],
   "source": [
    "df = pd.read_excel('Data/team-players.xlsx', nrows=3)\n",
    "df.head()"
   ]
  },
  {
   "cell_type": "markdown",
   "id": "59d12c9a-cc0a-4748-a146-8a4a119ae676",
   "metadata": {},
   "source": [
    "## Reading HTML with Pandas\n",
    "\n",
    "> One other handy feature of Pandas is the read_html() function. This allows you to parse HTML markup from remote web pages or local HTML documents and extract any tables present.\n",
    "\n",
    "> The read_html() function returns any tables it finds in a list, so if more than one is present, you’ll need to define which one to display in your dataframe using its list index, which starts from zero."
   ]
  },
  {
   "cell_type": "code",
   "execution_count": 7,
   "id": "e8510ddd-1682-4bda-912c-2abb63dcc433",
   "metadata": {},
   "outputs": [
    {
     "data": {
      "text/html": [
       "<div>\n",
       "<style scoped>\n",
       "    .dataframe tbody tr th:only-of-type {\n",
       "        vertical-align: middle;\n",
       "    }\n",
       "\n",
       "    .dataframe tbody tr th {\n",
       "        vertical-align: top;\n",
       "    }\n",
       "\n",
       "    .dataframe thead th {\n",
       "        text-align: right;\n",
       "    }\n",
       "</style>\n",
       "<table border=\"1\" class=\"dataframe\">\n",
       "  <thead>\n",
       "    <tr style=\"text-align: right;\">\n",
       "      <th></th>\n",
       "      <th>Language</th>\n",
       "      <th>Original purpose</th>\n",
       "      <th>Imperative</th>\n",
       "      <th>Object-oriented</th>\n",
       "      <th>Functional</th>\n",
       "      <th>Procedural</th>\n",
       "      <th>Generic</th>\n",
       "      <th>Reflective</th>\n",
       "      <th>Other paradigms</th>\n",
       "      <th>Standardized?</th>\n",
       "    </tr>\n",
       "  </thead>\n",
       "  <tbody>\n",
       "    <tr>\n",
       "      <th>0</th>\n",
       "      <td>1C:Enterprise programming language</td>\n",
       "      <td>Application, RAD, business, general, web, mobile</td>\n",
       "      <td>Yes</td>\n",
       "      <td>No</td>\n",
       "      <td>Yes</td>\n",
       "      <td>Yes</td>\n",
       "      <td>Yes</td>\n",
       "      <td>Yes</td>\n",
       "      <td>Object-based, Prototype-based programming</td>\n",
       "      <td>No</td>\n",
       "    </tr>\n",
       "    <tr>\n",
       "      <th>1</th>\n",
       "      <td>ActionScript</td>\n",
       "      <td>Application, client-side, web</td>\n",
       "      <td>Yes</td>\n",
       "      <td>Yes</td>\n",
       "      <td>Yes</td>\n",
       "      <td>Yes</td>\n",
       "      <td>No</td>\n",
       "      <td>No</td>\n",
       "      <td>prototype-based</td>\n",
       "      <td>Yes 1999-2003, ActionScript 1.0 with ES3, Acti...</td>\n",
       "    </tr>\n",
       "    <tr>\n",
       "      <th>2</th>\n",
       "      <td>Ada</td>\n",
       "      <td>Application, embedded, realtime, system</td>\n",
       "      <td>Yes</td>\n",
       "      <td>Yes[2]</td>\n",
       "      <td>No</td>\n",
       "      <td>Yes[3]</td>\n",
       "      <td>Yes[4]</td>\n",
       "      <td>No</td>\n",
       "      <td>Concurrent,[5] distributed,[6]</td>\n",
       "      <td>Yes 1983, 2005, 2012, ANSI, ISO, GOST 27831-88[7]</td>\n",
       "    </tr>\n",
       "    <tr>\n",
       "      <th>3</th>\n",
       "      <td>Aldor</td>\n",
       "      <td>Highly domain-specific, symbolic computing</td>\n",
       "      <td>Yes</td>\n",
       "      <td>Yes</td>\n",
       "      <td>Yes</td>\n",
       "      <td>No</td>\n",
       "      <td>No</td>\n",
       "      <td>No</td>\n",
       "      <td>NaN</td>\n",
       "      <td>No</td>\n",
       "    </tr>\n",
       "    <tr>\n",
       "      <th>4</th>\n",
       "      <td>ALGOL 58</td>\n",
       "      <td>Application</td>\n",
       "      <td>Yes</td>\n",
       "      <td>No</td>\n",
       "      <td>No</td>\n",
       "      <td>No</td>\n",
       "      <td>No</td>\n",
       "      <td>No</td>\n",
       "      <td>NaN</td>\n",
       "      <td>No</td>\n",
       "    </tr>\n",
       "  </tbody>\n",
       "</table>\n",
       "</div>"
      ],
      "text/plain": [
       "                             Language  \\\n",
       "0  1C:Enterprise programming language   \n",
       "1                        ActionScript   \n",
       "2                                 Ada   \n",
       "3                               Aldor   \n",
       "4                            ALGOL 58   \n",
       "\n",
       "                                   Original purpose Imperative  \\\n",
       "0  Application, RAD, business, general, web, mobile        Yes   \n",
       "1                     Application, client-side, web        Yes   \n",
       "2           Application, embedded, realtime, system        Yes   \n",
       "3        Highly domain-specific, symbolic computing        Yes   \n",
       "4                                       Application        Yes   \n",
       "\n",
       "  Object-oriented Functional Procedural Generic Reflective  \\\n",
       "0              No        Yes        Yes     Yes        Yes   \n",
       "1             Yes        Yes        Yes      No         No   \n",
       "2          Yes[2]         No     Yes[3]  Yes[4]         No   \n",
       "3             Yes        Yes         No      No         No   \n",
       "4              No         No         No      No         No   \n",
       "\n",
       "                             Other paradigms  \\\n",
       "0  Object-based, Prototype-based programming   \n",
       "1                            prototype-based   \n",
       "2             Concurrent,[5] distributed,[6]   \n",
       "3                                        NaN   \n",
       "4                                        NaN   \n",
       "\n",
       "                                       Standardized?  \n",
       "0                                                 No  \n",
       "1  Yes 1999-2003, ActionScript 1.0 with ES3, Acti...  \n",
       "2  Yes 1983, 2005, 2012, ANSI, ISO, GOST 27831-88[7]  \n",
       "3                                                 No  \n",
       "4                                                 No  "
      ]
     },
     "execution_count": 7,
     "metadata": {},
     "output_type": "execute_result"
    }
   ],
   "source": [
    "data = pd.read_html('https://en.wikipedia.org/wiki/Comparison_of_programming_languages#General_comparison')\n",
    "data[1].head()"
   ]
  },
  {
   "cell_type": "markdown",
   "id": "12b0654d-d0ea-479d-a318-c3c48127de8e",
   "metadata": {},
   "source": [
    "## Reading SQL Database with Pandas\n",
    "\n",
    "> You can use read_sql() to read db files. To connect database file we import sqlite3."
   ]
  },
  {
   "cell_type": "code",
   "execution_count": 8,
   "id": "dd6809f6-d631-46a8-9279-5d2ebbbe0a3d",
   "metadata": {},
   "outputs": [
    {
     "name": "stdout",
     "output_type": "stream",
     "text": [
      "      id                  title\n",
      "0      1  How I Met Your Mother\n",
      "1      2           The Sopranos\n",
      "2      3    Friday Night Lights\n",
      "3      4             Family Guy\n",
      "4      5               New Girl\n",
      "..   ...                    ...\n",
      "152  153               Sherlock\n",
      "153  154         Anne With An E\n",
      "154  155            Money Heist\n",
      "155  156             Succession\n",
      "156  157         Silicon Valley\n",
      "\n",
      "[157 rows x 2 columns]\n"
     ]
    }
   ],
   "source": [
    "import sqlite3\n",
    "\n",
    "conn = sqlite3.connect('Data/favorites.db')\n",
    "\n",
    "# Read the data from the database into a DataFrame\n",
    "df = pd.read_sql('SELECT * FROM shows', conn)\n",
    "\n",
    "# Close the connection to the database\n",
    "conn.close()\n",
    "\n",
    "print(df)"
   ]
  },
  {
   "cell_type": "markdown",
   "id": "27ad3e4b-8c54-4043-a71b-3474f80ca17c",
   "metadata": {},
   "source": [
    "## Requirments\n",
    "* Pandas\n",
    "* Sqlite3\n",
    "* Openpyxl"
   ]
  },
  {
   "cell_type": "markdown",
   "id": "6a7449d4-d2c5-41a7-aea9-db391d0bc87c",
   "metadata": {},
   "source": [
    "## References [https://github.com/immkavin-ranks/pd](https://github.com/immkavin-ranks/pd)\n",
    "\n",
    "1. [Datasets from Kaggle](https://www.kaggle.com)\n",
    "    * [Temperature and Ice Cream Sales](https://www.kaggle.com/datasets/raphaelmanayon/temperature-and-ice-cream-sales)\n",
    "    * [Spotify's Long Hits (2014-2024)](https://www.kaggle.com/datasets/kanchana1990/spotifys-long-hits-2014-2024)\n",
    "    * [IPL-2020 Dataset](https://www.kaggle.com/datasets/nischalkasera07/ipl2020dataset?select=team-players.xlsx)\n",
    "2. [Dataset from Wikipedia - Comparison of Programming Languages](https://en.wikipedia.org/wiki/Comparison_of_programming_languages#General_comparison)\n",
    "3. [Dataset from CS50x 2023 Practice Problem-Favorites](https://cs50.harvard.edu/x/2023/problems/7/favorites/)\n",
    "4. [An Article from Practical Data Science](https://practicaldatascience.co.uk/data-science/how-to-import-data-into-pandas-dataframes)\n",
    "5. [W3Schools Pandas Tutorial](https://www.w3schools.com/python/pandas)"
   ]
  }
 ],
 "metadata": {
  "kernelspec": {
   "display_name": "Python 3 (ipykernel)",
   "language": "python",
   "name": "python3"
  },
  "language_info": {
   "codemirror_mode": {
    "name": "ipython",
    "version": 3
   },
   "file_extension": ".py",
   "mimetype": "text/x-python",
   "name": "python",
   "nbconvert_exporter": "python",
   "pygments_lexer": "ipython3",
   "version": "3.10.12"
  }
 },
 "nbformat": 4,
 "nbformat_minor": 5
}
